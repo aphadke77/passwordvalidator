{
 "cells": [
  {
   "cell_type": "code",
   "execution_count": 5,
   "id": "80af8a1d-80a2-4cb9-974f-e05aa543660b",
   "metadata": {},
   "outputs": [
    {
     "name": "stdin",
     "output_type": "stream",
     "text": [
      "Input your password Bethechange@101\n"
     ]
    },
    {
     "name": "stdout",
     "output_type": "stream",
     "text": [
      "Valid Password\n",
      "Bethechange@101\n"
     ]
    }
   ],
   "source": [
    "import re\n",
    "p= input(\"Input your password\")\n",
    "x = True\n",
    "while x:  \n",
    "    if (len(p)<12 or len(p)>25):\n",
    "        print(\"Length is less than 12 or greater than 25 characters\")\n",
    "        break\n",
    "    elif not re.search(\"[a-z]\",p):\n",
    "        print(\"Does not contain lower case letters\")\n",
    "        break\n",
    "    elif not re.search(\"[0-9]\",p):\n",
    "        print(\"Missing numbers\")\n",
    "        break\n",
    "    elif not re.search(\"[A-Z]\",p):\n",
    "        print(\"Does not contain upper case letters\")\n",
    "        break\n",
    "    elif not re.search(\"[$#@]\",p):\n",
    "        print(\"Missing special characters\")\n",
    "        break\n",
    "    elif re.search(\"\\s\",p):\n",
    "        break\n",
    "    else:\n",
    "        print(\"Valid Password\")\n",
    "        goodpassword = p\n",
    "        print(goodpassword)\n",
    "        x=False\n",
    "        break\n",
    "\n",
    "if x:\n",
    "    print(\"Not a Valid Password\")\n",
    "    \n"
   ]
  },
  {
   "cell_type": "code",
   "execution_count": null,
   "id": "7b76a592-319f-40da-8278-1ebac9504b97",
   "metadata": {},
   "outputs": [],
   "source": []
  }
 ],
 "metadata": {
  "kernelspec": {
   "display_name": "Python (Forecast)",
   "language": "python",
   "name": "forecast"
  },
  "language_info": {
   "codemirror_mode": {
    "name": "ipython",
    "version": 3
   },
   "file_extension": ".py",
   "mimetype": "text/x-python",
   "name": "python",
   "nbconvert_exporter": "python",
   "pygments_lexer": "ipython3",
   "version": "3.7.0"
  }
 },
 "nbformat": 4,
 "nbformat_minor": 5
}
